{
 "cells": [
  {
   "cell_type": "code",
   "execution_count": 1,
   "metadata": {
    "ExecuteTime": {
     "end_time": "2020-07-08T18:28:57.425415Z",
     "start_time": "2020-07-08T18:28:57.093804Z"
    }
   },
   "outputs": [],
   "source": [
    "import src_lead_reporting as ld\n",
    "import datascience as ds"
   ]
  },
  {
   "cell_type": "code",
   "execution_count": 2,
   "metadata": {
    "ExecuteTime": {
     "end_time": "2020-07-08T18:28:58.201353Z",
     "start_time": "2020-07-08T18:28:58.199003Z"
    }
   },
   "outputs": [],
   "source": [
    "lead=ld.lead_reporting_persona()"
   ]
  },
  {
   "cell_type": "code",
   "execution_count": 3,
   "metadata": {
    "ExecuteTime": {
     "end_time": "2020-07-02T15:43:36.738749Z",
     "start_time": "2020-07-02T15:43:08.951811Z"
    },
    "scrolled": true
   },
   "outputs": [
    {
     "name": "stdout",
     "output_type": "stream",
     "text": [
      "Success\n",
      "Success\n",
      "The Main persona lead table is created: na_field_marketing.persona_leads_analysis \n"
     ]
    }
   ],
   "source": [
    "lead.create_leads_table_RS()"
   ]
  },
  {
   "cell_type": "code",
   "execution_count": 3,
   "metadata": {
    "ExecuteTime": {
     "end_time": "2020-07-08T18:33:52.673328Z",
     "start_time": "2020-07-08T18:31:01.871804Z"
    },
    "scrolled": true
   },
   "outputs": [
    {
     "name": "stdout",
     "output_type": "stream",
     "text": [
      "--------- Lead Report for Business Analyst for the year 2016 ---------\n",
      "Total number of leads: 11288\n",
      "Accepted Leads: 2983\n",
      "Converted Leads: 142\n",
      "--------- Lead Report for Business Analyst for the year 2017 ---------\n",
      "Total number of leads: 11587\n",
      "Accepted Leads: 3885\n",
      "Converted Leads: 190\n",
      "--------- Lead Report for Business Analyst for the year 2018 ---------\n",
      "Total number of leads: 16499\n",
      "Accepted Leads: 6527\n",
      "Converted Leads: 196\n",
      "--------- Lead Report for Business Analyst for the year 2019 ---------\n",
      "Total number of leads: 20562\n",
      "Accepted Leads: 10062\n",
      "Converted Leads: 212\n",
      "--------- Lead Report for Business Analyst for the year 2020 ---------\n",
      "Total number of leads: 14187\n",
      "Accepted Leads: 5210\n",
      "Converted Leads: 89\n",
      "\n",
      "\n",
      "--------- Lead Report for IT Manager for the year 2016 ---------\n",
      "Total number of leads: 30915\n",
      "Accepted Leads: 8315\n",
      "Converted Leads: 479\n",
      "--------- Lead Report for IT Manager for the year 2017 ---------\n",
      "Total number of leads: 23432\n",
      "Accepted Leads: 7896\n",
      "Converted Leads: 405\n",
      "--------- Lead Report for IT Manager for the year 2018 ---------\n",
      "Total number of leads: 34040\n",
      "Accepted Leads: 13934\n",
      "Converted Leads: 398\n",
      "--------- Lead Report for IT Manager for the year 2019 ---------\n",
      "Total number of leads: 37364\n",
      "Accepted Leads: 22235\n",
      "Converted Leads: 450\n",
      "--------- Lead Report for IT Manager for the year 2020 ---------\n",
      "Total number of leads: 24699\n",
      "Accepted Leads: 13569\n",
      "Converted Leads: 217\n",
      "\n",
      "\n",
      "--------- Lead Report for IT Executive for the year 2016 ---------\n",
      "Total number of leads: 11237\n",
      "Accepted Leads: 2913\n",
      "Converted Leads: 133\n",
      "--------- Lead Report for IT Executive for the year 2017 ---------\n",
      "Total number of leads: 9490\n",
      "Accepted Leads: 3038\n",
      "Converted Leads: 155\n",
      "--------- Lead Report for IT Executive for the year 2018 ---------\n",
      "Total number of leads: 12466\n",
      "Accepted Leads: 4534\n",
      "Converted Leads: 110\n",
      "--------- Lead Report for IT Executive for the year 2019 ---------\n",
      "Total number of leads: 17641\n",
      "Accepted Leads: 9848\n",
      "Converted Leads: 118\n",
      "--------- Lead Report for IT Executive for the year 2020 ---------\n",
      "Total number of leads: 10261\n",
      "Accepted Leads: 3852\n",
      "Converted Leads: 54\n",
      "\n",
      "\n",
      "--------- Lead Report for Lead Developer for the year 2016 ---------\n",
      "Total number of leads: 24091\n",
      "Accepted Leads: 8827\n",
      "Converted Leads: 522\n",
      "--------- Lead Report for Lead Developer for the year 2017 ---------\n",
      "Total number of leads: 24493\n",
      "Accepted Leads: 10075\n",
      "Converted Leads: 493\n",
      "--------- Lead Report for Lead Developer for the year 2018 ---------\n",
      "Total number of leads: 36813\n",
      "Accepted Leads: 17422\n",
      "Converted Leads: 640\n",
      "--------- Lead Report for Lead Developer for the year 2019 ---------\n",
      "Total number of leads: 43983\n",
      "Accepted Leads: 25688\n",
      "Converted Leads: 643\n",
      "--------- Lead Report for Lead Developer for the year 2020 ---------\n",
      "Total number of leads: 32299\n",
      "Accepted Leads: 12902\n",
      "Converted Leads: 297\n",
      "\n",
      "\n",
      "--------- Lead Report for System Administrator for the year 2016 ---------\n",
      "Total number of leads: 9677\n",
      "Accepted Leads: 3973\n",
      "Converted Leads: 356\n",
      "--------- Lead Report for System Administrator for the year 2017 ---------\n",
      "Total number of leads: 10009\n",
      "Accepted Leads: 5003\n",
      "Converted Leads: 374\n",
      "--------- Lead Report for System Administrator for the year 2018 ---------\n",
      "Total number of leads: 14219\n",
      "Accepted Leads: 7474\n",
      "Converted Leads: 348\n",
      "--------- Lead Report for System Administrator for the year 2019 ---------\n",
      "Total number of leads: 18393\n",
      "Accepted Leads: 10805\n",
      "Converted Leads: 409\n",
      "--------- Lead Report for System Administrator for the year 2020 ---------\n",
      "Total number of leads: 13769\n",
      "Accepted Leads: 5234\n",
      "Converted Leads: 246\n",
      "\n",
      "\n",
      "--------- Lead Report for Architect for the year 2016 ---------\n",
      "Total number of leads: 11360\n",
      "Accepted Leads: 5109\n",
      "Converted Leads: 356\n",
      "--------- Lead Report for Architect for the year 2017 ---------\n",
      "Total number of leads: 12650\n",
      "Accepted Leads: 5396\n",
      "Converted Leads: 355\n",
      "--------- Lead Report for Architect for the year 2018 ---------\n",
      "Total number of leads: 16180\n",
      "Accepted Leads: 8099\n",
      "Converted Leads: 337\n",
      "--------- Lead Report for Architect for the year 2019 ---------\n",
      "Total number of leads: 18401\n",
      "Accepted Leads: 11682\n",
      "Converted Leads: 327\n",
      "--------- Lead Report for Architect for the year 2020 ---------\n",
      "Total number of leads: 12138\n",
      "Accepted Leads: 5816\n",
      "Converted Leads: 126\n",
      "\n",
      "\n",
      "--------- Lead Report for Other for the year 2016 ---------\n",
      "Total number of leads: 45628\n",
      "Accepted Leads: 6578\n",
      "Converted Leads: 562\n",
      "--------- Lead Report for Other for the year 2017 ---------\n",
      "Total number of leads: 50336\n",
      "Accepted Leads: 9697\n",
      "Converted Leads: 637\n",
      "--------- Lead Report for Other for the year 2018 ---------\n",
      "Total number of leads: 65391\n",
      "Accepted Leads: 14079\n",
      "Converted Leads: 578\n",
      "--------- Lead Report for Other for the year 2019 ---------\n",
      "Total number of leads: 74282\n",
      "Accepted Leads: 25615\n",
      "Converted Leads: 596\n",
      "--------- Lead Report for Other for the year 2020 ---------\n",
      "Total number of leads: 32964\n",
      "Accepted Leads: 8892\n",
      "Converted Leads: 301\n",
      "\n",
      "\n",
      "Full S3 url: rhdatasci/ops/python_lead_analysis.gzip\n",
      "bucket where dataframe is to be copied: rhdatasci\n",
      "keypath of file to be copied:ops/python_lead_analysis.gzip\n",
      "Writing to disk...\n",
      "Creating table na_field_marketing.python_lead_analysis\n",
      "Querying Redshift...\n",
      "drop table na_field_marketing.python_lead_analysis;\n",
      "\n",
      "CREATE TABLE na_field_marketing.python_lead_analysis (\n",
      "\tleads BIGINT, \n",
      "\t\"Persona\" TEXT, \n",
      "\t\"Year\" BIGINT, \n",
      "\t\"Stage\" TEXT\n",
      ")\n",
      "\n",
      ";\n",
      "grant SELECT on na_field_marketing.python_lead_analysis\n",
      "to group na_field_marketing_rw; commit;grant SELECT on na_field_marketing.python_lead_analysis\n",
      "to group na_field_marketing_ro; commit;\n",
      "bucket where file is to be removed: rhdatasci\n",
      "keypath of file to be removed:ops/python_lead_analysis.gzip\n",
      "\n",
      "\n",
      "\n",
      "\n",
      "The dataframe is returned as well as push to RS named: na_field_marketing.python_lead_analysis\n"
     ]
    }
   ],
   "source": [
    "df=lead.calculations(start_year=2016,push_to_RS=True,table_name='python_lead_analysis')"
   ]
  },
  {
   "cell_type": "code",
   "execution_count": null,
   "metadata": {},
   "outputs": [],
   "source": []
  }
 ],
 "metadata": {
  "kernelspec": {
   "display_name": "Python 3",
   "language": "python",
   "name": "python3"
  },
  "language_info": {
   "codemirror_mode": {
    "name": "ipython",
    "version": 3
   },
   "file_extension": ".py",
   "mimetype": "text/x-python",
   "name": "python",
   "nbconvert_exporter": "python",
   "pygments_lexer": "ipython3",
   "version": "3.6.7"
  }
 },
 "nbformat": 4,
 "nbformat_minor": 2
}
